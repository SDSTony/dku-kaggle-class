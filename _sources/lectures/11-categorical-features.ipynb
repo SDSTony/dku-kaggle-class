{
 "cells": [
  {
   "cell_type": "markdown",
   "metadata": {},
   "source": [
    "# 11. 범주형변수 가공"
   ]
  },
  {
   "source": [
    "5장에서는 수치형변수를 처리하는 방법에 대해 살펴봤습니다. 이번 장에서는 범주형변수를 변환하는 방법에 대해 알아보겠습니다. \n",
    "\n",
    "범주형변수는 성별처럼 변수의 값 사이에 관련이 없고 구분되어 있는 변수를 뜻합니다. 범주형변수는 모델 학습에 사용하기 위해 수치형 또는 이진 변수로 변환해야 합니다. "
   ],
   "cell_type": "markdown",
   "metadata": {}
  },
  {
   "cell_type": "markdown",
   "metadata": {},
   "source": [
    "## 11.1 라이브러리 import 및 설정"
   ]
  },
  {
   "cell_type": "code",
   "execution_count": 1,
   "metadata": {
    "ExecuteTime": {
     "end_time": "2020-10-15T01:58:49.239510Z",
     "start_time": "2020-10-15T01:58:48.963260Z"
    }
   },
   "outputs": [],
   "source": [
    "%reload_ext autoreload\n",
    "%autoreload 2\n",
    "%matplotlib inline"
   ]
  },
  {
   "cell_type": "code",
   "execution_count": 2,
   "metadata": {
    "ExecuteTime": {
     "end_time": "2020-10-15T01:58:49.872221Z",
     "start_time": "2020-10-15T01:58:49.241684Z"
    }
   },
   "outputs": [],
   "source": [
    "import kaggler\n",
    "from lightgbm import LGBMRegressor\n",
    "from matplotlib import rcParams, pyplot as plt\n",
    "import numpy as np\n",
    "import pandas as pd\n",
    "from pathlib import Path\n",
    "from scipy.sparse import hstack\n",
    "import seaborn as sns\n",
    "from sklearn.metrics import mean_squared_error\n",
    "from sklearn.model_selection import train_test_split\n",
    "from sklearn.linear_model import LinearRegression\n",
    "from warnings import simplefilter"
   ]
  },
  {
   "cell_type": "code",
   "execution_count": 3,
   "metadata": {
    "ExecuteTime": {
     "end_time": "2020-10-15T01:58:49.896838Z",
     "start_time": "2020-10-15T01:58:49.875753Z"
    }
   },
   "outputs": [],
   "source": [
    "rcParams['figure.figsize'] = (16, 8)\n",
    "plt.style.use('fivethirtyeight')\n",
    "simplefilter('ignore')"
   ]
  },
  {
   "cell_type": "markdown",
   "metadata": {},
   "source": [
    "## 11.2 학습데이터 로드"
   ]
  },
  {
   "cell_type": "markdown",
   "metadata": {},
   "source": [
    "이번 실습에 사용할 데이터도 5장에서 실습한 것 처럼 데이콘의 [영화 관객수 예측 모델 개발](https://dacon.io/competitions/open/235536/data/) 페이지에서 다운로드하여 `../data/movies/` 폴더에 저장을 해둡니다. 해당 데이터는 영화의 장르, 개봉일, 상영시간 등의 데이터로 영화 총 관객수 (`box_off_num`)를 예측하는 데이터입니다. "
   ]
  },
  {
   "cell_type": "code",
   "execution_count": 4,
   "metadata": {
    "ExecuteTime": {
     "end_time": "2020-10-15T01:58:49.923422Z",
     "start_time": "2020-10-15T01:58:49.900895Z"
    }
   },
   "outputs": [],
   "source": [
    "data_dir = Path('../data/movies/')\n",
    "trn_file = data_dir / 'movies_train.csv'\n",
    "seed = 42\n",
    "target_col = 'box_off_num'"
   ]
  },
  {
   "cell_type": "code",
   "execution_count": 5,
   "metadata": {
    "ExecuteTime": {
     "end_time": "2020-10-15T01:58:49.969191Z",
     "start_time": "2020-10-15T01:58:49.925754Z"
    }
   },
   "outputs": [
    {
     "name": "stdout",
     "output_type": "stream",
     "text": [
      "(600, 11)\n"
     ]
    },
    {
     "data": {
      "text/html": [
       "<div>\n",
       "<style scoped>\n",
       "    .dataframe tbody tr th:only-of-type {\n",
       "        vertical-align: middle;\n",
       "    }\n",
       "\n",
       "    .dataframe tbody tr th {\n",
       "        vertical-align: top;\n",
       "    }\n",
       "\n",
       "    .dataframe thead th {\n",
       "        text-align: right;\n",
       "    }\n",
       "</style>\n",
       "<table border=\"1\" class=\"dataframe\">\n",
       "  <thead>\n",
       "    <tr style=\"text-align: right;\">\n",
       "      <th></th>\n",
       "      <th>distributor</th>\n",
       "      <th>genre</th>\n",
       "      <th>release_time</th>\n",
       "      <th>time</th>\n",
       "      <th>screening_rat</th>\n",
       "      <th>director</th>\n",
       "      <th>dir_prev_bfnum</th>\n",
       "      <th>dir_prev_num</th>\n",
       "      <th>num_staff</th>\n",
       "      <th>num_actor</th>\n",
       "      <th>box_off_num</th>\n",
       "    </tr>\n",
       "    <tr>\n",
       "      <th>title</th>\n",
       "      <th></th>\n",
       "      <th></th>\n",
       "      <th></th>\n",
       "      <th></th>\n",
       "      <th></th>\n",
       "      <th></th>\n",
       "      <th></th>\n",
       "      <th></th>\n",
       "      <th></th>\n",
       "      <th></th>\n",
       "      <th></th>\n",
       "    </tr>\n",
       "  </thead>\n",
       "  <tbody>\n",
       "    <tr>\n",
       "      <th>개들의 전쟁</th>\n",
       "      <td>롯데엔터테인먼트</td>\n",
       "      <td>액션</td>\n",
       "      <td>2012-11-22</td>\n",
       "      <td>96</td>\n",
       "      <td>청소년 관람불가</td>\n",
       "      <td>조병옥</td>\n",
       "      <td>NaN</td>\n",
       "      <td>0</td>\n",
       "      <td>91</td>\n",
       "      <td>2</td>\n",
       "      <td>23398</td>\n",
       "    </tr>\n",
       "    <tr>\n",
       "      <th>내부자들</th>\n",
       "      <td>(주)쇼박스</td>\n",
       "      <td>느와르</td>\n",
       "      <td>2015-11-19</td>\n",
       "      <td>130</td>\n",
       "      <td>청소년 관람불가</td>\n",
       "      <td>우민호</td>\n",
       "      <td>1161602.50</td>\n",
       "      <td>2</td>\n",
       "      <td>387</td>\n",
       "      <td>3</td>\n",
       "      <td>7072501</td>\n",
       "    </tr>\n",
       "    <tr>\n",
       "      <th>은밀하게 위대하게</th>\n",
       "      <td>(주)쇼박스</td>\n",
       "      <td>액션</td>\n",
       "      <td>2013-06-05</td>\n",
       "      <td>123</td>\n",
       "      <td>15세 관람가</td>\n",
       "      <td>장철수</td>\n",
       "      <td>220775.25</td>\n",
       "      <td>4</td>\n",
       "      <td>343</td>\n",
       "      <td>4</td>\n",
       "      <td>6959083</td>\n",
       "    </tr>\n",
       "    <tr>\n",
       "      <th>나는 공무원이다</th>\n",
       "      <td>(주)NEW</td>\n",
       "      <td>코미디</td>\n",
       "      <td>2012-07-12</td>\n",
       "      <td>101</td>\n",
       "      <td>전체 관람가</td>\n",
       "      <td>구자홍</td>\n",
       "      <td>23894.00</td>\n",
       "      <td>2</td>\n",
       "      <td>20</td>\n",
       "      <td>6</td>\n",
       "      <td>217866</td>\n",
       "    </tr>\n",
       "    <tr>\n",
       "      <th>불량남녀</th>\n",
       "      <td>쇼박스(주)미디어플렉스</td>\n",
       "      <td>코미디</td>\n",
       "      <td>2010-11-04</td>\n",
       "      <td>108</td>\n",
       "      <td>15세 관람가</td>\n",
       "      <td>신근호</td>\n",
       "      <td>1.00</td>\n",
       "      <td>1</td>\n",
       "      <td>251</td>\n",
       "      <td>2</td>\n",
       "      <td>483387</td>\n",
       "    </tr>\n",
       "  </tbody>\n",
       "</table>\n",
       "</div>"
      ],
      "text/plain": [
       "            distributor genre release_time  time screening_rat director  \\\n",
       "title                                                                     \n",
       "개들의 전쟁         롯데엔터테인먼트    액션   2012-11-22    96      청소년 관람불가      조병옥   \n",
       "내부자들             (주)쇼박스   느와르   2015-11-19   130      청소년 관람불가      우민호   \n",
       "은밀하게 위대하게        (주)쇼박스    액션   2013-06-05   123       15세 관람가      장철수   \n",
       "나는 공무원이다         (주)NEW   코미디   2012-07-12   101        전체 관람가      구자홍   \n",
       "불량남녀       쇼박스(주)미디어플렉스   코미디   2010-11-04   108       15세 관람가      신근호   \n",
       "\n",
       "           dir_prev_bfnum  dir_prev_num  num_staff  num_actor  box_off_num  \n",
       "title                                                                       \n",
       "개들의 전쟁                NaN             0         91          2        23398  \n",
       "내부자들           1161602.50             2        387          3      7072501  \n",
       "은밀하게 위대하게       220775.25             4        343          4      6959083  \n",
       "나는 공무원이다         23894.00             2         20          6       217866  \n",
       "불량남녀                 1.00             1        251          2       483387  "
      ]
     },
     "execution_count": 5,
     "metadata": {},
     "output_type": "execute_result"
    }
   ],
   "source": [
    "df = pd.read_csv(trn_file, index_col=0)\n",
    "print(df.shape)\n",
    "df.head()"
   ]
  },
  {
   "source": [
    "데이터를 확인해보면 `distributor`, `genre`, `screening_rat`, 그리고 `director`까지 총 4개의 범주형변수가 존재함을 알 수 있습니다."
   ],
   "cell_type": "markdown",
   "metadata": {}
  },
  {
   "cell_type": "markdown",
   "metadata": {},
   "source": [
    "## 11.3 EDA (Exploratory Data Analysis)"
   ]
  },
  {
   "cell_type": "code",
   "execution_count": 6,
   "metadata": {
    "ExecuteTime": {
     "end_time": "2020-10-15T01:58:50.001130Z",
     "start_time": "2020-10-15T01:58:49.971229Z"
    }
   },
   "outputs": [
    {
     "name": "stdout",
     "output_type": "stream",
     "text": [
      "<class 'pandas.core.frame.DataFrame'>\n",
      "Index: 600 entries, 개들의 전쟁 to 베를린\n",
      "Data columns (total 11 columns):\n",
      " #   Column          Non-Null Count  Dtype  \n",
      "---  ------          --------------  -----  \n",
      " 0   distributor     600 non-null    object \n",
      " 1   genre           600 non-null    object \n",
      " 2   release_time    600 non-null    object \n",
      " 3   time            600 non-null    int64  \n",
      " 4   screening_rat   600 non-null    object \n",
      " 5   director        600 non-null    object \n",
      " 6   dir_prev_bfnum  270 non-null    float64\n",
      " 7   dir_prev_num    600 non-null    int64  \n",
      " 8   num_staff       600 non-null    int64  \n",
      " 9   num_actor       600 non-null    int64  \n",
      " 10  box_off_num     600 non-null    int64  \n",
      "dtypes: float64(1), int64(5), object(5)\n",
      "memory usage: 56.2+ KB\n"
     ]
    }
   ],
   "source": [
    "df.info()"
   ]
  },
  {
   "cell_type": "markdown",
   "metadata": {},
   "source": [
    "`info()`함수를 통해 변수별 데이터 타입을 확인해보겠습니다. 독립변수를 포함 총 6개의 수치형변수가 있으며 그 중 `dir_prev_bfnum`은 결측값이 많음을 확인할 수 있습니다. 범주형변수는 `distributor`, `genre`, `screening_rat` 그리고 `director`까지 총 4개가 있습니다. 이 때 `release_time`은 시계열변수이지만 문자열(`object`)로 인식하고 있습니다. "
   ]
  },
  {
   "cell_type": "code",
   "execution_count": 7,
   "metadata": {
    "ExecuteTime": {
     "end_time": "2020-10-15T01:58:50.029306Z",
     "start_time": "2020-10-15T01:58:50.003664Z"
    }
   },
   "outputs": [
    {
     "name": "stdout",
     "output_type": "stream",
     "text": [
      "datetime64[ns]\n"
     ]
    }
   ],
   "source": [
    "df['release_time'] = pd.to_datetime(df['release_time'])\n",
    "print(df['release_time'].dtype)"
   ]
  },
  {
   "cell_type": "code",
   "execution_count": 8,
   "metadata": {
    "ExecuteTime": {
     "end_time": "2020-10-15T01:58:50.064413Z",
     "start_time": "2020-10-15T01:58:50.031551Z"
    }
   },
   "outputs": [
    {
     "name": "stdout",
     "output_type": "stream",
     "text": [
      "<class 'pandas.core.frame.DataFrame'>\n",
      "Index: 600 entries, 개들의 전쟁 to 베를린\n",
      "Data columns (total 11 columns):\n",
      " #   Column          Non-Null Count  Dtype         \n",
      "---  ------          --------------  -----         \n",
      " 0   distributor     600 non-null    object        \n",
      " 1   genre           600 non-null    object        \n",
      " 2   release_time    600 non-null    datetime64[ns]\n",
      " 3   time            600 non-null    int64         \n",
      " 4   screening_rat   600 non-null    object        \n",
      " 5   director        600 non-null    object        \n",
      " 6   dir_prev_bfnum  600 non-null    float64       \n",
      " 7   dir_prev_num    600 non-null    int64         \n",
      " 8   num_staff       600 non-null    int64         \n",
      " 9   num_actor       600 non-null    int64         \n",
      " 10  box_off_num     600 non-null    int64         \n",
      "dtypes: datetime64[ns](1), float64(1), int64(5), object(4)\n",
      "memory usage: 56.2+ KB\n"
     ]
    }
   ],
   "source": [
    "df.fillna(0, inplace=True)\n",
    "df.info()"
   ]
  },
  {
   "cell_type": "markdown",
   "metadata": {},
   "source": [
    "`release_time`을 시계열타입(`datetime`)으로 변환하고 결측값을 0으로 대체했습니다."
   ]
  },
  {
   "cell_type": "code",
   "execution_count": 9,
   "metadata": {
    "ExecuteTime": {
     "end_time": "2020-10-15T01:58:50.093066Z",
     "start_time": "2020-10-15T01:58:50.066528Z"
    }
   },
   "outputs": [
    {
     "name": "stdout",
     "output_type": "stream",
     "text": [
      "    numeric (5):\t['time', 'dir_prev_bfnum', 'dir_prev_num', 'num_staff', 'num_actor']\n",
      "categorical (4):\t['distributor', 'genre', 'screening_rat', 'director']\n"
     ]
    }
   ],
   "source": [
    "num_cols = [x for x in df.columns if df[x].dtype in [np.int64, np.float64] and x != target_col]\n",
    "cat_cols = ['distributor', 'genre', 'screening_rat', 'director']\n",
    "print(f'    numeric ({len(num_cols)}):\\t{num_cols}')\n",
    "print(f'categorical ({len(cat_cols)}):\\t{cat_cols}')"
   ]
  },
  {
   "cell_type": "markdown",
   "metadata": {},
   "source": [
    "### 11.3.1 범주형변수 EDA"
   ]
  },
  {
   "cell_type": "code",
   "execution_count": 10,
   "metadata": {
    "ExecuteTime": {
     "end_time": "2020-10-15T01:58:50.120830Z",
     "start_time": "2020-10-15T01:58:50.095906Z"
    }
   },
   "outputs": [
    {
     "name": "stdout",
     "output_type": "stream",
     "text": [
      "['distributor', 'genre', 'screening_rat', 'director']\n"
     ]
    }
   ],
   "source": [
    "print(cat_cols)"
   ]
  },
  {
   "cell_type": "code",
   "execution_count": 11,
   "metadata": {
    "ExecuteTime": {
     "end_time": "2020-10-15T01:58:50.155869Z",
     "start_time": "2020-10-15T01:58:50.123455Z"
    }
   },
   "outputs": [
    {
     "data": {
      "text/html": [
       "<div>\n",
       "<style scoped>\n",
       "    .dataframe tbody tr th:only-of-type {\n",
       "        vertical-align: middle;\n",
       "    }\n",
       "\n",
       "    .dataframe tbody tr th {\n",
       "        vertical-align: top;\n",
       "    }\n",
       "\n",
       "    .dataframe thead th {\n",
       "        text-align: right;\n",
       "    }\n",
       "</style>\n",
       "<table border=\"1\" class=\"dataframe\">\n",
       "  <thead>\n",
       "    <tr style=\"text-align: right;\">\n",
       "      <th></th>\n",
       "      <th>distributor</th>\n",
       "    </tr>\n",
       "  </thead>\n",
       "  <tbody>\n",
       "    <tr>\n",
       "      <th>CJ 엔터테인먼트</th>\n",
       "      <td>54</td>\n",
       "    </tr>\n",
       "    <tr>\n",
       "      <th>롯데엔터테인먼트</th>\n",
       "      <td>52</td>\n",
       "    </tr>\n",
       "    <tr>\n",
       "      <th>(주)NEW</th>\n",
       "      <td>30</td>\n",
       "    </tr>\n",
       "    <tr>\n",
       "      <th>(주)마운틴픽쳐스</th>\n",
       "      <td>29</td>\n",
       "    </tr>\n",
       "    <tr>\n",
       "      <th>인디스토리</th>\n",
       "      <td>26</td>\n",
       "    </tr>\n",
       "    <tr>\n",
       "      <th>...</th>\n",
       "      <td>...</td>\n",
       "    </tr>\n",
       "    <tr>\n",
       "      <th>(주)팝 파트너스</th>\n",
       "      <td>1</td>\n",
       "    </tr>\n",
       "    <tr>\n",
       "      <th>스폰지이엔티</th>\n",
       "      <td>1</td>\n",
       "    </tr>\n",
       "    <tr>\n",
       "      <th>(주)JK필름</th>\n",
       "      <td>1</td>\n",
       "    </tr>\n",
       "    <tr>\n",
       "      <th>디 씨드</th>\n",
       "      <td>1</td>\n",
       "    </tr>\n",
       "    <tr>\n",
       "      <th>스튜디오 블루</th>\n",
       "      <td>1</td>\n",
       "    </tr>\n",
       "  </tbody>\n",
       "</table>\n",
       "<p>169 rows × 1 columns</p>\n",
       "</div>"
      ],
      "text/plain": [
       "           distributor\n",
       "CJ 엔터테인먼트           54\n",
       "롯데엔터테인먼트            52\n",
       "(주)NEW              30\n",
       "(주)마운틴픽쳐스           29\n",
       "인디스토리               26\n",
       "...                ...\n",
       "(주)팝 파트너스            1\n",
       "스폰지이엔티               1\n",
       "(주)JK필름              1\n",
       "디 씨드                 1\n",
       "스튜디오 블루              1\n",
       "\n",
       "[169 rows x 1 columns]"
      ]
     },
     "execution_count": 11,
     "metadata": {},
     "output_type": "execute_result"
    }
   ],
   "source": [
    "pd.DataFrame(df['distributor'].value_counts())"
   ]
  },
  {
   "source": [
    "범주형변수를 탐색할 때 유용하게 쓰이는 `value_counts()`함수를 위에서 사용했습니다. `value_counts()`는 데이터내에서 범주별로 등장한 횟수를 반환해줍니다. 위의 예시에서 `CJ 엔터테인먼트`가 54개의 영화를 배급 했음을 알 수 있습니다. 또한 총 169개의 배급사가 존재하는 것도 하단에 나와있는 `169 rows`를 통해 알 수 있습니다. "
   ],
   "cell_type": "markdown",
   "metadata": {}
  },
  {
   "cell_type": "code",
   "execution_count": 12,
   "metadata": {
    "ExecuteTime": {
     "end_time": "2020-10-15T01:58:50.190115Z",
     "start_time": "2020-10-15T01:58:50.158582Z"
    }
   },
   "outputs": [
    {
     "data": {
      "text/html": [
       "<div>\n",
       "<style scoped>\n",
       "    .dataframe tbody tr th:only-of-type {\n",
       "        vertical-align: middle;\n",
       "    }\n",
       "\n",
       "    .dataframe tbody tr th {\n",
       "        vertical-align: top;\n",
       "    }\n",
       "\n",
       "    .dataframe thead th {\n",
       "        text-align: right;\n",
       "    }\n",
       "</style>\n",
       "<table border=\"1\" class=\"dataframe\">\n",
       "  <thead>\n",
       "    <tr style=\"text-align: right;\">\n",
       "      <th></th>\n",
       "      <th>genre</th>\n",
       "    </tr>\n",
       "  </thead>\n",
       "  <tbody>\n",
       "    <tr>\n",
       "      <th>드라마</th>\n",
       "      <td>221</td>\n",
       "    </tr>\n",
       "    <tr>\n",
       "      <th>다큐멘터리</th>\n",
       "      <td>93</td>\n",
       "    </tr>\n",
       "    <tr>\n",
       "      <th>멜로/로맨스</th>\n",
       "      <td>78</td>\n",
       "    </tr>\n",
       "    <tr>\n",
       "      <th>코미디</th>\n",
       "      <td>53</td>\n",
       "    </tr>\n",
       "    <tr>\n",
       "      <th>공포</th>\n",
       "      <td>42</td>\n",
       "    </tr>\n",
       "    <tr>\n",
       "      <th>액션</th>\n",
       "      <td>28</td>\n",
       "    </tr>\n",
       "    <tr>\n",
       "      <th>느와르</th>\n",
       "      <td>27</td>\n",
       "    </tr>\n",
       "    <tr>\n",
       "      <th>애니메이션</th>\n",
       "      <td>21</td>\n",
       "    </tr>\n",
       "    <tr>\n",
       "      <th>미스터리</th>\n",
       "      <td>17</td>\n",
       "    </tr>\n",
       "    <tr>\n",
       "      <th>SF</th>\n",
       "      <td>13</td>\n",
       "    </tr>\n",
       "    <tr>\n",
       "      <th>뮤지컬</th>\n",
       "      <td>5</td>\n",
       "    </tr>\n",
       "    <tr>\n",
       "      <th>서스펜스</th>\n",
       "      <td>2</td>\n",
       "    </tr>\n",
       "  </tbody>\n",
       "</table>\n",
       "</div>"
      ],
      "text/plain": [
       "        genre\n",
       "드라마       221\n",
       "다큐멘터리      93\n",
       "멜로/로맨스     78\n",
       "코미디        53\n",
       "공포         42\n",
       "액션         28\n",
       "느와르        27\n",
       "애니메이션      21\n",
       "미스터리       17\n",
       "SF         13\n",
       "뮤지컬         5\n",
       "서스펜스        2"
      ]
     },
     "execution_count": 12,
     "metadata": {},
     "output_type": "execute_result"
    }
   ],
   "source": [
    "pd.DataFrame(df['genre'].value_counts())"
   ]
  },
  {
   "source": [
    "`genre`에는 총 12개의 범주가 존재하며 그 중 `드라마`가 221개로 가장 많은 것을 알 수 있습니다. "
   ],
   "cell_type": "markdown",
   "metadata": {}
  },
  {
   "cell_type": "code",
   "execution_count": 13,
   "metadata": {
    "ExecuteTime": {
     "end_time": "2020-10-15T01:58:50.224397Z",
     "start_time": "2020-10-15T01:58:50.192316Z"
    }
   },
   "outputs": [
    {
     "data": {
      "text/html": [
       "<div>\n",
       "<style scoped>\n",
       "    .dataframe tbody tr th:only-of-type {\n",
       "        vertical-align: middle;\n",
       "    }\n",
       "\n",
       "    .dataframe tbody tr th {\n",
       "        vertical-align: top;\n",
       "    }\n",
       "\n",
       "    .dataframe thead th {\n",
       "        text-align: right;\n",
       "    }\n",
       "</style>\n",
       "<table border=\"1\" class=\"dataframe\">\n",
       "  <thead>\n",
       "    <tr style=\"text-align: right;\">\n",
       "      <th></th>\n",
       "      <th>screening_rat</th>\n",
       "    </tr>\n",
       "  </thead>\n",
       "  <tbody>\n",
       "    <tr>\n",
       "      <th>청소년 관람불가</th>\n",
       "      <td>204</td>\n",
       "    </tr>\n",
       "    <tr>\n",
       "      <th>15세 관람가</th>\n",
       "      <td>202</td>\n",
       "    </tr>\n",
       "    <tr>\n",
       "      <th>12세 관람가</th>\n",
       "      <td>102</td>\n",
       "    </tr>\n",
       "    <tr>\n",
       "      <th>전체 관람가</th>\n",
       "      <td>92</td>\n",
       "    </tr>\n",
       "  </tbody>\n",
       "</table>\n",
       "</div>"
      ],
      "text/plain": [
       "          screening_rat\n",
       "청소년 관람불가            204\n",
       "15세 관람가             202\n",
       "12세 관람가             102\n",
       "전체 관람가               92"
      ]
     },
     "execution_count": 13,
     "metadata": {},
     "output_type": "execute_result"
    }
   ],
   "source": [
    "pd.DataFrame(df['screening_rat'].value_counts())"
   ]
  },
  {
   "cell_type": "code",
   "execution_count": 14,
   "metadata": {
    "ExecuteTime": {
     "end_time": "2020-10-15T01:58:50.258194Z",
     "start_time": "2020-10-15T01:58:50.226365Z"
    }
   },
   "outputs": [
    {
     "data": {
      "text/html": [
       "<div>\n",
       "<style scoped>\n",
       "    .dataframe tbody tr th:only-of-type {\n",
       "        vertical-align: middle;\n",
       "    }\n",
       "\n",
       "    .dataframe tbody tr th {\n",
       "        vertical-align: top;\n",
       "    }\n",
       "\n",
       "    .dataframe thead th {\n",
       "        text-align: right;\n",
       "    }\n",
       "</style>\n",
       "<table border=\"1\" class=\"dataframe\">\n",
       "  <thead>\n",
       "    <tr style=\"text-align: right;\">\n",
       "      <th></th>\n",
       "      <th>director</th>\n",
       "    </tr>\n",
       "  </thead>\n",
       "  <tbody>\n",
       "    <tr>\n",
       "      <th>홍상수</th>\n",
       "      <td>7</td>\n",
       "    </tr>\n",
       "    <tr>\n",
       "      <th>노진수</th>\n",
       "      <td>4</td>\n",
       "    </tr>\n",
       "    <tr>\n",
       "      <th>장률</th>\n",
       "      <td>4</td>\n",
       "    </tr>\n",
       "    <tr>\n",
       "      <th>전규환</th>\n",
       "      <td>4</td>\n",
       "    </tr>\n",
       "    <tr>\n",
       "      <th>신재호</th>\n",
       "      <td>4</td>\n",
       "    </tr>\n",
       "    <tr>\n",
       "      <th>...</th>\n",
       "      <td>...</td>\n",
       "    </tr>\n",
       "    <tr>\n",
       "      <th>안상훈</th>\n",
       "      <td>1</td>\n",
       "    </tr>\n",
       "    <tr>\n",
       "      <th>한준희</th>\n",
       "      <td>1</td>\n",
       "    </tr>\n",
       "    <tr>\n",
       "      <th>이광호</th>\n",
       "      <td>1</td>\n",
       "    </tr>\n",
       "    <tr>\n",
       "      <th>김동빈</th>\n",
       "      <td>1</td>\n",
       "    </tr>\n",
       "    <tr>\n",
       "      <th>전윤수</th>\n",
       "      <td>1</td>\n",
       "    </tr>\n",
       "  </tbody>\n",
       "</table>\n",
       "<p>472 rows × 1 columns</p>\n",
       "</div>"
      ],
      "text/plain": [
       "     director\n",
       "홍상수         7\n",
       "노진수         4\n",
       "장률          4\n",
       "전규환         4\n",
       "신재호         4\n",
       "..        ...\n",
       "안상훈         1\n",
       "한준희         1\n",
       "이광호         1\n",
       "김동빈         1\n",
       "전윤수         1\n",
       "\n",
       "[472 rows x 1 columns]"
      ]
     },
     "execution_count": 14,
     "metadata": {},
     "output_type": "execute_result"
    }
   ],
   "source": [
    "pd.DataFrame(df['director'].value_counts())"
   ]
  },
  {
   "cell_type": "markdown",
   "metadata": {},
   "source": [
    "## 11.4 수치형/시계열변수 가공"
   ]
  },
  {
   "cell_type": "markdown",
   "metadata": {},
   "source": [
    "수치형 독립변수 중 멱변환 분포를 따르는 변수에도 `np.log1p()` 변환을 적용하였다."
   ]
  },
  {
   "cell_type": "code",
   "execution_count": 15,
   "metadata": {
    "ExecuteTime": {
     "end_time": "2020-10-15T01:58:50.313790Z",
     "start_time": "2020-10-15T01:58:50.261228Z"
    }
   },
   "outputs": [
    {
     "data": {
      "text/html": [
       "<div>\n",
       "<style scoped>\n",
       "    .dataframe tbody tr th:only-of-type {\n",
       "        vertical-align: middle;\n",
       "    }\n",
       "\n",
       "    .dataframe tbody tr th {\n",
       "        vertical-align: top;\n",
       "    }\n",
       "\n",
       "    .dataframe thead th {\n",
       "        text-align: right;\n",
       "    }\n",
       "</style>\n",
       "<table border=\"1\" class=\"dataframe\">\n",
       "  <thead>\n",
       "    <tr style=\"text-align: right;\">\n",
       "      <th></th>\n",
       "      <th>time</th>\n",
       "      <th>dir_prev_bfnum</th>\n",
       "      <th>dir_prev_num</th>\n",
       "      <th>num_staff</th>\n",
       "      <th>num_actor</th>\n",
       "    </tr>\n",
       "  </thead>\n",
       "  <tbody>\n",
       "    <tr>\n",
       "      <th>count</th>\n",
       "      <td>600.000000</td>\n",
       "      <td>600.000000</td>\n",
       "      <td>600.000000</td>\n",
       "      <td>600.000000</td>\n",
       "      <td>600.000000</td>\n",
       "    </tr>\n",
       "    <tr>\n",
       "      <th>mean</th>\n",
       "      <td>100.863333</td>\n",
       "      <td>5.305796</td>\n",
       "      <td>0.462197</td>\n",
       "      <td>4.026352</td>\n",
       "      <td>1.446130</td>\n",
       "    </tr>\n",
       "    <tr>\n",
       "      <th>std</th>\n",
       "      <td>18.097528</td>\n",
       "      <td>6.254561</td>\n",
       "      <td>0.555570</td>\n",
       "      <td>1.789517</td>\n",
       "      <td>0.446256</td>\n",
       "    </tr>\n",
       "    <tr>\n",
       "      <th>min</th>\n",
       "      <td>45.000000</td>\n",
       "      <td>0.000000</td>\n",
       "      <td>0.000000</td>\n",
       "      <td>0.000000</td>\n",
       "      <td>0.000000</td>\n",
       "    </tr>\n",
       "    <tr>\n",
       "      <th>25%</th>\n",
       "      <td>89.000000</td>\n",
       "      <td>0.000000</td>\n",
       "      <td>0.000000</td>\n",
       "      <td>2.890372</td>\n",
       "      <td>1.098612</td>\n",
       "    </tr>\n",
       "    <tr>\n",
       "      <th>50%</th>\n",
       "      <td>100.000000</td>\n",
       "      <td>0.000000</td>\n",
       "      <td>0.000000</td>\n",
       "      <td>4.424829</td>\n",
       "      <td>1.386294</td>\n",
       "    </tr>\n",
       "    <tr>\n",
       "      <th>75%</th>\n",
       "      <td>114.000000</td>\n",
       "      <td>12.837611</td>\n",
       "      <td>1.098612</td>\n",
       "      <td>5.579730</td>\n",
       "      <td>1.609438</td>\n",
       "    </tr>\n",
       "    <tr>\n",
       "      <th>max</th>\n",
       "      <td>180.000000</td>\n",
       "      <td>16.684279</td>\n",
       "      <td>1.791759</td>\n",
       "      <td>6.768493</td>\n",
       "      <td>3.258097</td>\n",
       "    </tr>\n",
       "  </tbody>\n",
       "</table>\n",
       "</div>"
      ],
      "text/plain": [
       "             time  dir_prev_bfnum  dir_prev_num   num_staff   num_actor\n",
       "count  600.000000      600.000000    600.000000  600.000000  600.000000\n",
       "mean   100.863333        5.305796      0.462197    4.026352    1.446130\n",
       "std     18.097528        6.254561      0.555570    1.789517    0.446256\n",
       "min     45.000000        0.000000      0.000000    0.000000    0.000000\n",
       "25%     89.000000        0.000000      0.000000    2.890372    1.098612\n",
       "50%    100.000000        0.000000      0.000000    4.424829    1.386294\n",
       "75%    114.000000       12.837611      1.098612    5.579730    1.609438\n",
       "max    180.000000       16.684279      1.791759    6.768493    3.258097"
      ]
     },
     "execution_count": 15,
     "metadata": {},
     "output_type": "execute_result"
    }
   ],
   "source": [
    "df[['dir_prev_bfnum', 'dir_prev_num', 'num_staff', 'num_actor']] = df[['dir_prev_bfnum', 'dir_prev_num', 'num_staff', 'num_actor']].apply(np.log1p)\n",
    "df[num_cols].describe()"
   ]
  },
  {
   "cell_type": "code",
   "execution_count": 16,
   "metadata": {
    "ExecuteTime": {
     "end_time": "2020-10-15T01:58:50.356191Z",
     "start_time": "2020-10-15T01:58:50.316236Z"
    }
   },
   "outputs": [
    {
     "data": {
      "text/html": [
       "<div>\n",
       "<style scoped>\n",
       "    .dataframe tbody tr th:only-of-type {\n",
       "        vertical-align: middle;\n",
       "    }\n",
       "\n",
       "    .dataframe tbody tr th {\n",
       "        vertical-align: top;\n",
       "    }\n",
       "\n",
       "    .dataframe thead th {\n",
       "        text-align: right;\n",
       "    }\n",
       "</style>\n",
       "<table border=\"1\" class=\"dataframe\">\n",
       "  <thead>\n",
       "    <tr style=\"text-align: right;\">\n",
       "      <th></th>\n",
       "      <th>distributor</th>\n",
       "      <th>genre</th>\n",
       "      <th>release_time</th>\n",
       "      <th>time</th>\n",
       "      <th>screening_rat</th>\n",
       "      <th>director</th>\n",
       "      <th>dir_prev_bfnum</th>\n",
       "      <th>dir_prev_num</th>\n",
       "      <th>num_staff</th>\n",
       "      <th>num_actor</th>\n",
       "      <th>box_off_num</th>\n",
       "      <th>year</th>\n",
       "      <th>month</th>\n",
       "    </tr>\n",
       "    <tr>\n",
       "      <th>title</th>\n",
       "      <th></th>\n",
       "      <th></th>\n",
       "      <th></th>\n",
       "      <th></th>\n",
       "      <th></th>\n",
       "      <th></th>\n",
       "      <th></th>\n",
       "      <th></th>\n",
       "      <th></th>\n",
       "      <th></th>\n",
       "      <th></th>\n",
       "      <th></th>\n",
       "      <th></th>\n",
       "    </tr>\n",
       "  </thead>\n",
       "  <tbody>\n",
       "    <tr>\n",
       "      <th>개들의 전쟁</th>\n",
       "      <td>롯데엔터테인먼트</td>\n",
       "      <td>액션</td>\n",
       "      <td>2012-11-22</td>\n",
       "      <td>96</td>\n",
       "      <td>청소년 관람불가</td>\n",
       "      <td>조병옥</td>\n",
       "      <td>0.000000</td>\n",
       "      <td>0.000000</td>\n",
       "      <td>4.521789</td>\n",
       "      <td>1.098612</td>\n",
       "      <td>23398</td>\n",
       "      <td>2012</td>\n",
       "      <td>11</td>\n",
       "    </tr>\n",
       "    <tr>\n",
       "      <th>내부자들</th>\n",
       "      <td>(주)쇼박스</td>\n",
       "      <td>느와르</td>\n",
       "      <td>2015-11-19</td>\n",
       "      <td>130</td>\n",
       "      <td>청소년 관람불가</td>\n",
       "      <td>우민호</td>\n",
       "      <td>13.965312</td>\n",
       "      <td>1.098612</td>\n",
       "      <td>5.961005</td>\n",
       "      <td>1.386294</td>\n",
       "      <td>7072501</td>\n",
       "      <td>2015</td>\n",
       "      <td>11</td>\n",
       "    </tr>\n",
       "    <tr>\n",
       "      <th>은밀하게 위대하게</th>\n",
       "      <td>(주)쇼박스</td>\n",
       "      <td>액션</td>\n",
       "      <td>2013-06-05</td>\n",
       "      <td>123</td>\n",
       "      <td>15세 관람가</td>\n",
       "      <td>장철수</td>\n",
       "      <td>12.304905</td>\n",
       "      <td>1.609438</td>\n",
       "      <td>5.840642</td>\n",
       "      <td>1.609438</td>\n",
       "      <td>6959083</td>\n",
       "      <td>2013</td>\n",
       "      <td>6</td>\n",
       "    </tr>\n",
       "    <tr>\n",
       "      <th>나는 공무원이다</th>\n",
       "      <td>(주)NEW</td>\n",
       "      <td>코미디</td>\n",
       "      <td>2012-07-12</td>\n",
       "      <td>101</td>\n",
       "      <td>전체 관람가</td>\n",
       "      <td>구자홍</td>\n",
       "      <td>10.081425</td>\n",
       "      <td>1.098612</td>\n",
       "      <td>3.044522</td>\n",
       "      <td>1.945910</td>\n",
       "      <td>217866</td>\n",
       "      <td>2012</td>\n",
       "      <td>7</td>\n",
       "    </tr>\n",
       "    <tr>\n",
       "      <th>불량남녀</th>\n",
       "      <td>쇼박스(주)미디어플렉스</td>\n",
       "      <td>코미디</td>\n",
       "      <td>2010-11-04</td>\n",
       "      <td>108</td>\n",
       "      <td>15세 관람가</td>\n",
       "      <td>신근호</td>\n",
       "      <td>0.693147</td>\n",
       "      <td>0.693147</td>\n",
       "      <td>5.529429</td>\n",
       "      <td>1.098612</td>\n",
       "      <td>483387</td>\n",
       "      <td>2010</td>\n",
       "      <td>11</td>\n",
       "    </tr>\n",
       "  </tbody>\n",
       "</table>\n",
       "</div>"
      ],
      "text/plain": [
       "            distributor genre release_time  time screening_rat director  \\\n",
       "title                                                                     \n",
       "개들의 전쟁         롯데엔터테인먼트    액션   2012-11-22    96      청소년 관람불가      조병옥   \n",
       "내부자들             (주)쇼박스   느와르   2015-11-19   130      청소년 관람불가      우민호   \n",
       "은밀하게 위대하게        (주)쇼박스    액션   2013-06-05   123       15세 관람가      장철수   \n",
       "나는 공무원이다         (주)NEW   코미디   2012-07-12   101        전체 관람가      구자홍   \n",
       "불량남녀       쇼박스(주)미디어플렉스   코미디   2010-11-04   108       15세 관람가      신근호   \n",
       "\n",
       "           dir_prev_bfnum  dir_prev_num  num_staff  num_actor  box_off_num  \\\n",
       "title                                                                        \n",
       "개들의 전쟁           0.000000      0.000000   4.521789   1.098612        23398   \n",
       "내부자들            13.965312      1.098612   5.961005   1.386294      7072501   \n",
       "은밀하게 위대하게       12.304905      1.609438   5.840642   1.609438      6959083   \n",
       "나는 공무원이다        10.081425      1.098612   3.044522   1.945910       217866   \n",
       "불량남녀             0.693147      0.693147   5.529429   1.098612       483387   \n",
       "\n",
       "           year  month  \n",
       "title                   \n",
       "개들의 전쟁     2012     11  \n",
       "내부자들       2015     11  \n",
       "은밀하게 위대하게  2013      6  \n",
       "나는 공무원이다   2012      7  \n",
       "불량남녀       2010     11  "
      ]
     },
     "execution_count": 16,
     "metadata": {},
     "output_type": "execute_result"
    }
   ],
   "source": [
    "df['year'] = df['release_time'].dt.year\n",
    "df['month'] = df['release_time'].dt.month\n",
    "df.head()"
   ]
  },
  {
   "cell_type": "code",
   "execution_count": 17,
   "metadata": {
    "ExecuteTime": {
     "end_time": "2020-10-15T01:58:50.383106Z",
     "start_time": "2020-10-15T01:58:50.358439Z"
    }
   },
   "outputs": [
    {
     "name": "stdout",
     "output_type": "stream",
     "text": [
      "['time', 'dir_prev_bfnum', 'dir_prev_num', 'num_staff', 'num_actor', 'year', 'month']\n"
     ]
    }
   ],
   "source": [
    "num_cols += ['year', 'month']\n",
    "print(num_cols)"
   ]
  },
  {
   "cell_type": "code",
   "execution_count": 18,
   "metadata": {
    "ExecuteTime": {
     "end_time": "2020-10-15T01:58:50.411082Z",
     "start_time": "2020-10-15T01:58:50.385749Z"
    }
   },
   "outputs": [
    {
     "name": "stdout",
     "output_type": "stream",
     "text": [
      "['time', 'dir_prev_bfnum', 'dir_prev_num', 'num_staff', 'num_actor', 'year', 'month', 'distributor', 'genre', 'screening_rat', 'director']\n"
     ]
    }
   ],
   "source": [
    "features = num_cols + cat_cols\n",
    "print(features)"
   ]
  },
  {
   "cell_type": "markdown",
   "metadata": {},
   "source": [
    "## 11.5 범주형변수 가공"
   ]
  },
  {
   "cell_type": "code",
   "execution_count": 19,
   "metadata": {
    "ExecuteTime": {
     "end_time": "2020-10-15T01:58:50.438540Z",
     "start_time": "2020-10-15T01:58:50.413314Z"
    }
   },
   "outputs": [],
   "source": [
    "rmse = lambda y, p: np.sqrt(mean_squared_error(y, p))\n",
    "rmsle = lambda y, p: np.sqrt(mean_squared_error(np.log1p(y), np.log1p(p)))"
   ]
  },
  {
   "cell_type": "markdown",
   "metadata": {},
   "source": [
    "### 11.5.1 Ordinal Encoding"
   ]
  },
  {
   "source": [
    "가장 먼저 배워볼 변환 방법은 ordinal encoding 입니다. 각각의 범주를 0부터 n-1의 정수로 변환하는 방법입니다. 일반적으로 ordinal encoding은 범주간의 대소 관계가 존재할 때 해당 관계를 보존하는 식으로 변환하는 방법입니다. 예를 들어 옷 사이즈 small, medium, large가 있을 때 차례대로 0, 1, 2로 변환하는 것입니다. 하지만 Scikit-learn에서 Ordinal encoding시 사용하는 함수는 범주내의 대소 관계와 무관하게 수치 변환을 실시합니다. 또한 Scikit-learn에서 제공하는 label encoding 방법 또한 이와 유사하게 적용됩니다. "
   ],
   "cell_type": "markdown",
   "metadata": {}
  },
  {
   "cell_type": "code",
   "execution_count": 20,
   "metadata": {
    "ExecuteTime": {
     "end_time": "2020-10-15T01:58:50.482572Z",
     "start_time": "2020-10-15T01:58:50.440985Z"
    }
   },
   "outputs": [
    {
     "data": {
      "text/html": [
       "<div>\n",
       "<style scoped>\n",
       "    .dataframe tbody tr th:only-of-type {\n",
       "        vertical-align: middle;\n",
       "    }\n",
       "\n",
       "    .dataframe tbody tr th {\n",
       "        vertical-align: top;\n",
       "    }\n",
       "\n",
       "    .dataframe thead th {\n",
       "        text-align: right;\n",
       "    }\n",
       "</style>\n",
       "<table border=\"1\" class=\"dataframe\">\n",
       "  <thead>\n",
       "    <tr style=\"text-align: right;\">\n",
       "      <th></th>\n",
       "      <th>distributor</th>\n",
       "      <th>genre</th>\n",
       "      <th>screening_rat</th>\n",
       "      <th>director</th>\n",
       "    </tr>\n",
       "    <tr>\n",
       "      <th>title</th>\n",
       "      <th></th>\n",
       "      <th></th>\n",
       "      <th></th>\n",
       "      <th></th>\n",
       "    </tr>\n",
       "  </thead>\n",
       "  <tbody>\n",
       "    <tr>\n",
       "      <th>개들의 전쟁</th>\n",
       "      <td>80.0</td>\n",
       "      <td>10.0</td>\n",
       "      <td>3.0</td>\n",
       "      <td>393.0</td>\n",
       "    </tr>\n",
       "    <tr>\n",
       "      <th>내부자들</th>\n",
       "      <td>21.0</td>\n",
       "      <td>2.0</td>\n",
       "      <td>3.0</td>\n",
       "      <td>252.0</td>\n",
       "    </tr>\n",
       "    <tr>\n",
       "      <th>은밀하게 위대하게</th>\n",
       "      <td>21.0</td>\n",
       "      <td>10.0</td>\n",
       "      <td>1.0</td>\n",
       "      <td>357.0</td>\n",
       "    </tr>\n",
       "    <tr>\n",
       "      <th>나는 공무원이다</th>\n",
       "      <td>6.0</td>\n",
       "      <td>11.0</td>\n",
       "      <td>2.0</td>\n",
       "      <td>17.0</td>\n",
       "    </tr>\n",
       "    <tr>\n",
       "      <th>불량남녀</th>\n",
       "      <td>96.0</td>\n",
       "      <td>11.0</td>\n",
       "      <td>1.0</td>\n",
       "      <td>218.0</td>\n",
       "    </tr>\n",
       "  </tbody>\n",
       "</table>\n",
       "</div>"
      ],
      "text/plain": [
       "           distributor  genre  screening_rat  director\n",
       "title                                                 \n",
       "개들의 전쟁            80.0   10.0            3.0     393.0\n",
       "내부자들              21.0    2.0            3.0     252.0\n",
       "은밀하게 위대하게         21.0   10.0            1.0     357.0\n",
       "나는 공무원이다           6.0   11.0            2.0      17.0\n",
       "불량남녀              96.0   11.0            1.0     218.0"
      ]
     },
     "execution_count": 20,
     "metadata": {},
     "output_type": "execute_result"
    }
   ],
   "source": [
    "from sklearn.preprocessing import OrdinalEncoder\n",
    "df_cat = df.copy()\n",
    "oe = OrdinalEncoder()\n",
    "df_cat[cat_cols] = oe.fit_transform(df[cat_cols])\n",
    "df_cat[cat_cols].head()"
   ]
  },
  {
   "source": [
    "`OrdinalEncoder()`을 적용하니 범주가 수치로 변환된 것을 확인할 수 있습니다. "
   ],
   "cell_type": "markdown",
   "metadata": {}
  },
  {
   "cell_type": "code",
   "execution_count": 21,
   "metadata": {
    "ExecuteTime": {
     "end_time": "2020-10-15T01:58:50.611177Z",
     "start_time": "2020-10-15T01:58:50.484778Z"
    }
   },
   "outputs": [
    {
     "name": "stdout",
     "output_type": "stream",
     "text": [
      " RMSE:\t  1412591.02\n",
      "RMSLE:\t        1.98\n"
     ]
    }
   ],
   "source": [
    "trn, tst = train_test_split(df_cat, test_size=.2, random_state=seed)\n",
    "clf = LGBMRegressor(random_state=seed)\n",
    "clf.fit(trn[features], np.log1p(trn[target_col]))\n",
    "p = np.expm1(clf.predict(tst[features]))\n",
    "print(f' RMSE:\\t{rmse(tst[target_col], p):12.2f}')\n",
    "print(f'RMSLE:\\t{rmsle(tst[target_col], p):12.2f}')"
   ]
  },
  {
   "cell_type": "markdown",
   "metadata": {},
   "source": [
    "### 11.5.2 Label Encoding with Grouping"
   ]
  },
  {
   "source": [
    "앞서 살펴본 encoding 방법은 개별 범주에 하나의 번호를 부여하기 때문에 한번만 등장하는 범주가 여러개일 때 각각 다른 숫자를 갖게 됩니다. 한번만 등장하지 않는데 개별 숫자로 encoding하는 것은 비효율적일 수 있습니다. 이번 절에서는 빈도 수에 기반해 범주를 묶어서 encoding하는 방법을 소개하겠습니다. "
   ],
   "cell_type": "markdown",
   "metadata": {}
  },
  {
   "cell_type": "code",
   "execution_count": 22,
   "metadata": {
    "ExecuteTime": {
     "end_time": "2020-10-15T01:58:52.431751Z",
     "start_time": "2020-10-15T01:58:50.613102Z"
    }
   },
   "outputs": [
    {
     "name": "stderr",
     "output_type": "stream",
     "text": [
      "Using TensorFlow backend.\n"
     ]
    },
    {
     "data": {
      "text/html": [
       "<div>\n",
       "<style scoped>\n",
       "    .dataframe tbody tr th:only-of-type {\n",
       "        vertical-align: middle;\n",
       "    }\n",
       "\n",
       "    .dataframe tbody tr th {\n",
       "        vertical-align: top;\n",
       "    }\n",
       "\n",
       "    .dataframe thead th {\n",
       "        text-align: right;\n",
       "    }\n",
       "</style>\n",
       "<table border=\"1\" class=\"dataframe\">\n",
       "  <thead>\n",
       "    <tr style=\"text-align: right;\">\n",
       "      <th></th>\n",
       "      <th>distributor</th>\n",
       "      <th>genre</th>\n",
       "      <th>screening_rat</th>\n",
       "      <th>director</th>\n",
       "    </tr>\n",
       "    <tr>\n",
       "      <th>title</th>\n",
       "      <th></th>\n",
       "      <th></th>\n",
       "      <th></th>\n",
       "      <th></th>\n",
       "    </tr>\n",
       "  </thead>\n",
       "  <tbody>\n",
       "    <tr>\n",
       "      <th>개들의 전쟁</th>\n",
       "      <td>2.0</td>\n",
       "      <td>5</td>\n",
       "      <td>0</td>\n",
       "      <td>0.0</td>\n",
       "    </tr>\n",
       "    <tr>\n",
       "      <th>내부자들</th>\n",
       "      <td>6.0</td>\n",
       "      <td>6</td>\n",
       "      <td>0</td>\n",
       "      <td>6.0</td>\n",
       "    </tr>\n",
       "    <tr>\n",
       "      <th>은밀하게 위대하게</th>\n",
       "      <td>6.0</td>\n",
       "      <td>5</td>\n",
       "      <td>1</td>\n",
       "      <td>0.0</td>\n",
       "    </tr>\n",
       "    <tr>\n",
       "      <th>나는 공무원이다</th>\n",
       "      <td>3.0</td>\n",
       "      <td>3</td>\n",
       "      <td>3</td>\n",
       "      <td>0.0</td>\n",
       "    </tr>\n",
       "    <tr>\n",
       "      <th>불량남녀</th>\n",
       "      <td>66.0</td>\n",
       "      <td>3</td>\n",
       "      <td>1</td>\n",
       "      <td>0.0</td>\n",
       "    </tr>\n",
       "  </tbody>\n",
       "</table>\n",
       "</div>"
      ],
      "text/plain": [
       "           distributor  genre  screening_rat  director\n",
       "title                                                 \n",
       "개들의 전쟁             2.0      5              0       0.0\n",
       "내부자들               6.0      6              0       6.0\n",
       "은밀하게 위대하게          6.0      5              1       0.0\n",
       "나는 공무원이다           3.0      3              3       0.0\n",
       "불량남녀              66.0      3              1       0.0"
      ]
     },
     "execution_count": 22,
     "metadata": {},
     "output_type": "execute_result"
    }
   ],
   "source": [
    "from kaggler.preprocessing import LabelEncoder\n",
    "df_cat = df.copy()\n",
    "le = LabelEncoder(min_obs=2)\n",
    "df_cat[cat_cols] = le.fit_transform(df[cat_cols])\n",
    "df_cat[cat_cols].head()"
   ]
  },
  {
   "source": [
    "`kaggler`라이브러리의 `preprocessing`모듈에서 제공하는 `LabelEncoder()`함수는 특정 횟수 미만으로 등장하는 범주들을 모두 하나의 그룹으로 묶어주는 기능을 제공합니다. `min_obs`파라미터에 2를 명시했기 때문에 2번 미만으로 등장하는 범주는 모두 하나의 수치로 변환하게 됩니다. "
   ],
   "cell_type": "markdown",
   "metadata": {}
  },
  {
   "cell_type": "code",
   "execution_count": 23,
   "metadata": {
    "ExecuteTime": {
     "end_time": "2020-10-15T01:58:52.534859Z",
     "start_time": "2020-10-15T01:58:52.433852Z"
    }
   },
   "outputs": [
    {
     "name": "stdout",
     "output_type": "stream",
     "text": [
      " RMSE:\t  1182500.97\n",
      "RMSLE:\t        1.92\n"
     ]
    }
   ],
   "source": [
    "trn, tst = train_test_split(df_cat, test_size=.2, random_state=seed)\n",
    "clf = LGBMRegressor(random_state=seed)\n",
    "clf.fit(trn[features], np.log1p(trn[target_col]))\n",
    "p = np.expm1(clf.predict(tst[features]))\n",
    "print(f' RMSE:\\t{rmse(tst[target_col], p):12.2f}')\n",
    "print(f'RMSLE:\\t{rmsle(tst[target_col], p):12.2f}')"
   ]
  },
  {
   "source": [
    "Label encoding with grouping 방법을 통해 수치 변환을 한 경우 ordinal encoding을 했을 때 보다 평가지표인 rmse와 rmsle가 모두 줄어든 것을 확인할 수 있습니다. rmse와 rmsle은 낮을 수록 모델 성능이 높은 지표입니다. "
   ],
   "cell_type": "markdown",
   "metadata": {}
  },
  {
   "cell_type": "markdown",
   "metadata": {},
   "source": [
    "### 11.5.3 One-Hot-Encoding"
   ]
  },
  {
   "source": [
    "앞서 살펴본 ordinal/label encoding은 트리 기반의 모델을 사용할 때는 학습이 잘 되지만 선형회귀, 로지스틱회귀, 또는 딥러닝(신경망) 모델에 적용할 때는 학습이 잘 안될 수 있습니다. 후자에 언급한 알고리즘들은 숫자의 대소 관계에 영향을 받는데 ordinal/label encoding으로 변환한 수치값은 원래 없던 대소 관계를 임의로 부여한 것이기 때문에 모델에 악영향을 줄 수가 있습니다. 예를 들어 `조병옥`감독과 `우민호`감독은 서로 다른 사람인데 각각 1과 3으로 변환이 되면 수치상 `조병옥`감독이 3명이 모이면 `우민호`감독이 된다는 뜻입니다. 선형회귀, 로지스틱회귀, 그리고 딥러닝 모델은 이러한 관계를 반영할려고 하기 때문에 모델 학습이 잘 안될 수도 있습니다. \n",
    "\n",
    "위와 같은 예시인 경우 ordinal encoding 보다 one-hot encoding방법을 적용할 수 있습니다. One-hot encoding은 각각의 범주의 존재 여부를 이진 변수로 변환해서 나타냅니다. `sklearn.preprocessing`모듈의 `OneHotEncoder()`함수를 통해 적용할 수 있습니다. "
   ],
   "cell_type": "markdown",
   "metadata": {}
  },
  {
   "cell_type": "code",
   "execution_count": 24,
   "metadata": {
    "ExecuteTime": {
     "end_time": "2020-10-15T01:58:52.593964Z",
     "start_time": "2020-10-15T01:58:52.537074Z"
    }
   },
   "outputs": [
    {
     "name": "stdout",
     "output_type": "stream",
     "text": [
      "(600, 664)\n"
     ]
    }
   ],
   "source": [
    "from sklearn.preprocessing import OneHotEncoder\n",
    "ohe = OneHotEncoder()\n",
    "X = hstack((df[num_cols],\n",
    "            ohe.fit_transform(df[cat_cols])))\n",
    "print(X.shape)"
   ]
  },
  {
   "source": [
    "One-hot encoding 변환 후에는 범주의 개수 만큼 열의 개수가 늘어나기 때문에 664개로 열이 늘어난 것을 확인할 수 있습니다. "
   ],
   "cell_type": "markdown",
   "metadata": {}
  },
  {
   "cell_type": "code",
   "execution_count": 25,
   "metadata": {
    "ExecuteTime": {
     "end_time": "2020-10-15T01:58:52.690051Z",
     "start_time": "2020-10-15T01:58:52.595928Z"
    }
   },
   "outputs": [
    {
     "name": "stdout",
     "output_type": "stream",
     "text": [
      " RMSE:\t  1239343.52\n",
      "RMSLE:\t        1.99\n"
     ]
    }
   ],
   "source": [
    "X_trn, X_tst, y_trn, y_tst = train_test_split(X, df[target_col], test_size=.2, random_state=seed)\n",
    "clf = LGBMRegressor(random_state=seed)\n",
    "clf.fit(X_trn, np.log1p(y_trn))\n",
    "p = np.expm1(clf.predict(X_tst))\n",
    "print(f' RMSE:\\t{rmse(tst[target_col], p):12.2f}')\n",
    "print(f'RMSLE:\\t{rmsle(tst[target_col], p):12.2f}')"
   ]
  },
  {
   "cell_type": "markdown",
   "metadata": {},
   "source": [
    "### 11.5.4 One-Hot-Encoding with Grouping"
   ]
  },
  {
   "source": [
    "One-hot encoding 적용 전에도 특정 빈도 미만으로 출현하는 범주들은 하나의 그룹으로 묶고 나서 변환을 실시할 수 있습니다. `kaggler`라이브러리를 사용해 그룹을 지은 후 one-hot encoding 적용이 가능합니다. "
   ],
   "cell_type": "markdown",
   "metadata": {}
  },
  {
   "cell_type": "code",
   "execution_count": 26,
   "metadata": {
    "ExecuteTime": {
     "end_time": "2020-10-15T01:58:52.775006Z",
     "start_time": "2020-10-15T01:58:52.692416Z"
    }
   },
   "outputs": [
    {
     "name": "stdout",
     "output_type": "stream",
     "text": [
      "(600, 187)\n"
     ]
    }
   ],
   "source": [
    "from kaggler.preprocessing import OneHotEncoder\n",
    "ohe = OneHotEncoder(min_obs=2)\n",
    "X = hstack((df[num_cols],\n",
    "            ohe.fit_transform(df[cat_cols])))\n",
    "print(X.shape)"
   ]
  },
  {
   "source": [
    "`min_obs`파라미터에 2를 주었기 때문에 2미만의 빈도를 가진 범주는 모두 하나의 범주로 묶게 됩니다. 범주를 묶지 않았을 때는 encoding 변환 후 664개의 열이 존재했는데 범주를 묶은 후에는 encoding 변환 후 187개의 열만 존재하는 것을 확인할 수 있습니다. "
   ],
   "cell_type": "markdown",
   "metadata": {}
  },
  {
   "cell_type": "code",
   "execution_count": 27,
   "metadata": {
    "ExecuteTime": {
     "end_time": "2020-10-15T01:58:52.866167Z",
     "start_time": "2020-10-15T01:58:52.777080Z"
    }
   },
   "outputs": [
    {
     "name": "stdout",
     "output_type": "stream",
     "text": [
      " RMSE:\t  1183708.39\n",
      "RMSLE:\t        1.96\n"
     ]
    }
   ],
   "source": [
    "X_trn, X_tst, y_trn, y_tst = train_test_split(X, df[target_col], test_size=.2, random_state=seed)\n",
    "clf = LGBMRegressor(random_state=seed)\n",
    "clf.fit(X_trn, np.log1p(y_trn))\n",
    "p = np.expm1(clf.predict(X_tst))\n",
    "print(f' RMSE:\\t{rmse(tst[target_col], p):12.2f}')\n",
    "print(f'RMSLE:\\t{rmsle(tst[target_col], p):12.2f}')"
   ]
  },
  {
   "source": [
    "rmse와 rmsle도 범주를 묶기 전보다 좋아진 것을 확인할 수 있습니다. "
   ],
   "cell_type": "markdown",
   "metadata": {}
  },
  {
   "cell_type": "markdown",
   "metadata": {},
   "source": [
    "### 11.5.5 Target Encoding without Cross-Validation"
   ]
  },
  {
   "source": [
    "Target encoding은 각각의 범주를 종속변수의 평균값으로 변환하는 방법입니다. 예를들어 모든 `12세 관람가`영화의 관객수 평균이 84만이면 `12세 관람가`를 84만으로 변환합니다. \n",
    "\n",
    "Target encoding은 종속변수에 대한 정보를 활용해 변환하기 때문에 과적합에 취약합니다. 그러므로 cross-validation과 smoothing을 함께 사용해서 과적합을 방지해줄 필요가 있습니다. `kaggler` 라이브러리에서 제공하는 `TargetEncoder()`함수는 cross-validation과 smoothing을 모두 지원합니다. "
   ],
   "cell_type": "markdown",
   "metadata": {}
  },
  {
   "cell_type": "code",
   "execution_count": 28,
   "metadata": {
    "ExecuteTime": {
     "end_time": "2020-10-15T01:58:52.971132Z",
     "start_time": "2020-10-15T01:58:52.868298Z"
    }
   },
   "outputs": [
    {
     "data": {
      "text/html": [
       "<div>\n",
       "<style scoped>\n",
       "    .dataframe tbody tr th:only-of-type {\n",
       "        vertical-align: middle;\n",
       "    }\n",
       "\n",
       "    .dataframe tbody tr th {\n",
       "        vertical-align: top;\n",
       "    }\n",
       "\n",
       "    .dataframe thead th {\n",
       "        text-align: right;\n",
       "    }\n",
       "</style>\n",
       "<table border=\"1\" class=\"dataframe\">\n",
       "  <thead>\n",
       "    <tr style=\"text-align: right;\">\n",
       "      <th></th>\n",
       "      <th>distributor</th>\n",
       "      <th>genre</th>\n",
       "      <th>screening_rat</th>\n",
       "      <th>director</th>\n",
       "    </tr>\n",
       "    <tr>\n",
       "      <th>title</th>\n",
       "      <th></th>\n",
       "      <th></th>\n",
       "      <th></th>\n",
       "      <th></th>\n",
       "    </tr>\n",
       "  </thead>\n",
       "  <tbody>\n",
       "    <tr>\n",
       "      <th>돼지의 왕</th>\n",
       "      <td>721746.077154</td>\n",
       "      <td>1.998008e+05</td>\n",
       "      <td>3.511182e+05</td>\n",
       "      <td>723283.709843</td>\n",
       "    </tr>\n",
       "    <tr>\n",
       "      <th>청춘그루브</th>\n",
       "      <td>723430.057925</td>\n",
       "      <td>6.093409e+05</td>\n",
       "      <td>1.289088e+06</td>\n",
       "      <td>723430.057925</td>\n",
       "    </tr>\n",
       "    <tr>\n",
       "      <th>행복한 울릉인</th>\n",
       "      <td>722860.857509</td>\n",
       "      <td>7.472685e+04</td>\n",
       "      <td>1.529000e+05</td>\n",
       "      <td>723430.082604</td>\n",
       "    </tr>\n",
       "    <tr>\n",
       "      <th>옥희의 영화</th>\n",
       "      <td>718805.251941</td>\n",
       "      <td>6.093409e+05</td>\n",
       "      <td>3.511182e+05</td>\n",
       "      <td>711379.735399</td>\n",
       "    </tr>\n",
       "    <tr>\n",
       "      <th>권법형사 : 차이나타운</th>\n",
       "      <td>90921.244145</td>\n",
       "      <td>2.212935e+06</td>\n",
       "      <td>3.511182e+05</td>\n",
       "      <td>723429.982531</td>\n",
       "    </tr>\n",
       "  </tbody>\n",
       "</table>\n",
       "</div>"
      ],
      "text/plain": [
       "                distributor         genre  screening_rat       director\n",
       "title                                                                  \n",
       "돼지의 왕         721746.077154  1.998008e+05   3.511182e+05  723283.709843\n",
       "청춘그루브         723430.057925  6.093409e+05   1.289088e+06  723430.057925\n",
       "행복한 울릉인       722860.857509  7.472685e+04   1.529000e+05  723430.082604\n",
       "옥희의 영화        718805.251941  6.093409e+05   3.511182e+05  711379.735399\n",
       "권법형사 : 차이나타운   90921.244145  2.212935e+06   3.511182e+05  723429.982531"
      ]
     },
     "execution_count": 28,
     "metadata": {},
     "output_type": "execute_result"
    }
   ],
   "source": [
    "from kaggler.preprocessing import TargetEncoder\n",
    "trn, tst = train_test_split(df, test_size=.2, random_state=seed)\n",
    "te = TargetEncoder(cv=None)\n",
    "trn[cat_cols] = te.fit_transform(trn[cat_cols], trn[target_col])\n",
    "tst[cat_cols] = te.transform(tst[cat_cols])\n",
    "trn[cat_cols].head()"
   ]
  },
  {
   "cell_type": "code",
   "execution_count": 29,
   "metadata": {
    "ExecuteTime": {
     "end_time": "2020-10-15T01:58:53.066099Z",
     "start_time": "2020-10-15T01:58:52.973349Z"
    }
   },
   "outputs": [
    {
     "name": "stdout",
     "output_type": "stream",
     "text": [
      " RMSE:\t  1271836.20\n",
      "RMSLE:\t        3.40\n"
     ]
    }
   ],
   "source": [
    "clf = LGBMRegressor(random_state=seed)\n",
    "clf.fit(trn[features], np.log1p(trn[target_col]))\n",
    "p = np.expm1(clf.predict(tst[features]))\n",
    "print(f' RMSE:\\t{rmse(tst[target_col], p):12.2f}')\n",
    "print(f'RMSLE:\\t{rmsle(tst[target_col], p):12.2f}')"
   ]
  },
  {
   "cell_type": "markdown",
   "metadata": {},
   "source": [
    "### 11.5.6 Target Encoding with Cross-Validation"
   ]
  },
  {
   "cell_type": "code",
   "execution_count": 30,
   "metadata": {
    "ExecuteTime": {
     "end_time": "2020-10-15T01:58:53.363395Z",
     "start_time": "2020-10-15T01:58:53.073803Z"
    }
   },
   "outputs": [
    {
     "data": {
      "text/html": [
       "<div>\n",
       "<style scoped>\n",
       "    .dataframe tbody tr th:only-of-type {\n",
       "        vertical-align: middle;\n",
       "    }\n",
       "\n",
       "    .dataframe tbody tr th {\n",
       "        vertical-align: top;\n",
       "    }\n",
       "\n",
       "    .dataframe thead th {\n",
       "        text-align: right;\n",
       "    }\n",
       "</style>\n",
       "<table border=\"1\" class=\"dataframe\">\n",
       "  <thead>\n",
       "    <tr style=\"text-align: right;\">\n",
       "      <th></th>\n",
       "      <th>distributor</th>\n",
       "      <th>genre</th>\n",
       "      <th>screening_rat</th>\n",
       "      <th>director</th>\n",
       "    </tr>\n",
       "    <tr>\n",
       "      <th>title</th>\n",
       "      <th></th>\n",
       "      <th></th>\n",
       "      <th></th>\n",
       "      <th></th>\n",
       "    </tr>\n",
       "  </thead>\n",
       "  <tbody>\n",
       "    <tr>\n",
       "      <th>돼지의 왕</th>\n",
       "      <td>723277.447850</td>\n",
       "      <td>267982.096480</td>\n",
       "      <td>348028.101562</td>\n",
       "      <td>723432.730281</td>\n",
       "    </tr>\n",
       "    <tr>\n",
       "      <th>청춘그루브</th>\n",
       "      <td>742425.489583</td>\n",
       "      <td>742425.489583</td>\n",
       "      <td>742425.489583</td>\n",
       "      <td>742425.489583</td>\n",
       "    </tr>\n",
       "    <tr>\n",
       "      <th>행복한 울릉인</th>\n",
       "      <td>768901.203125</td>\n",
       "      <td>10425.029522</td>\n",
       "      <td>122162.823956</td>\n",
       "      <td>768901.203125</td>\n",
       "    </tr>\n",
       "    <tr>\n",
       "      <th>옥희의 영화</th>\n",
       "      <td>722877.805490</td>\n",
       "      <td>813347.509259</td>\n",
       "      <td>380361.663366</td>\n",
       "      <td>721858.927057</td>\n",
       "    </tr>\n",
       "    <tr>\n",
       "      <th>권법형사 : 차이나타운</th>\n",
       "      <td>722864.097814</td>\n",
       "      <td>727096.433397</td>\n",
       "      <td>115692.865474</td>\n",
       "      <td>597129.065104</td>\n",
       "    </tr>\n",
       "  </tbody>\n",
       "</table>\n",
       "</div>"
      ],
      "text/plain": [
       "                distributor          genre  screening_rat       director\n",
       "title                                                                   \n",
       "돼지의 왕         723277.447850  267982.096480  348028.101562  723432.730281\n",
       "청춘그루브         742425.489583  742425.489583  742425.489583  742425.489583\n",
       "행복한 울릉인       768901.203125   10425.029522  122162.823956  768901.203125\n",
       "옥희의 영화        722877.805490  813347.509259  380361.663366  721858.927057\n",
       "권법형사 : 차이나타운  722864.097814  727096.433397  115692.865474  597129.065104"
      ]
     },
     "execution_count": 30,
     "metadata": {},
     "output_type": "execute_result"
    }
   ],
   "source": [
    "trn, tst = train_test_split(df, test_size=.2, random_state=seed)\n",
    "te = TargetEncoder()\n",
    "trn[cat_cols] = te.fit_transform(trn[cat_cols], trn[target_col])\n",
    "tst[cat_cols] = te.transform(tst[cat_cols])\n",
    "trn[cat_cols].head()"
   ]
  },
  {
   "cell_type": "code",
   "execution_count": 31,
   "metadata": {
    "ExecuteTime": {
     "end_time": "2020-10-15T01:58:53.473846Z",
     "start_time": "2020-10-15T01:58:53.365336Z"
    }
   },
   "outputs": [
    {
     "name": "stdout",
     "output_type": "stream",
     "text": [
      " RMSE:\t  1529036.45\n",
      "RMSLE:\t        2.12\n"
     ]
    }
   ],
   "source": [
    "clf = LGBMRegressor(random_state=seed)\n",
    "clf.fit(trn[features], np.log1p(trn[target_col]))\n",
    "p = np.expm1(clf.predict(tst[features]))\n",
    "print(f' RMSE:\\t{rmse(tst[target_col], p):12.2f}')\n",
    "print(f'RMSLE:\\t{rmsle(tst[target_col], p):12.2f}')"
   ]
  },
  {
   "source": [
    "이번 실습에 사용하는 데이터셋은 샘플 수가 약 600개 정도 되는 작은 데이터셋이라서 cross-validation을 적용해도 과적합이 크게 개선되지는 않았습니다. "
   ],
   "cell_type": "markdown",
   "metadata": {}
  },
  {
   "cell_type": "markdown",
   "metadata": {},
   "source": [
    "### 11.5.7 Frequency Encoding"
   ]
  },
  {
   "source": [
    "Frequency encoding은 각 범주가 출현한 빈도 수로 범주를 변환합니다. 예를 들어 `12세 관람가`가 102번 등장했으면 `12세 관람가`범주를 102로 변환합니다. Frequency encoding은 ordinal/label encoding에 grouping을 적용한 것과 비슷한 효과를 가집니다. 출현 빈도가 1인 범주는 모두 1로 변환되기 때문에 하나의 그룹에 묶인 상태로 변환된 것과 같기 때문입니다. `kaggler` 라이브러리에서 제공하는 `FrequencyEncoder()`함수를 통해 적용 가능합니다. "
   ],
   "cell_type": "markdown",
   "metadata": {}
  },
  {
   "cell_type": "code",
   "execution_count": 32,
   "metadata": {
    "ExecuteTime": {
     "end_time": "2020-10-15T01:58:53.558809Z",
     "start_time": "2020-10-15T01:58:53.476089Z"
    }
   },
   "outputs": [
    {
     "data": {
      "text/html": [
       "<div>\n",
       "<style scoped>\n",
       "    .dataframe tbody tr th:only-of-type {\n",
       "        vertical-align: middle;\n",
       "    }\n",
       "\n",
       "    .dataframe tbody tr th {\n",
       "        vertical-align: top;\n",
       "    }\n",
       "\n",
       "    .dataframe thead th {\n",
       "        text-align: right;\n",
       "    }\n",
       "</style>\n",
       "<table border=\"1\" class=\"dataframe\">\n",
       "  <thead>\n",
       "    <tr style=\"text-align: right;\">\n",
       "      <th></th>\n",
       "      <th>distributor</th>\n",
       "      <th>genre</th>\n",
       "      <th>screening_rat</th>\n",
       "      <th>director</th>\n",
       "    </tr>\n",
       "    <tr>\n",
       "      <th>title</th>\n",
       "      <th></th>\n",
       "      <th></th>\n",
       "      <th></th>\n",
       "      <th></th>\n",
       "    </tr>\n",
       "  </thead>\n",
       "  <tbody>\n",
       "    <tr>\n",
       "      <th>개들의 전쟁</th>\n",
       "      <td>52</td>\n",
       "      <td>28</td>\n",
       "      <td>204</td>\n",
       "      <td>1</td>\n",
       "    </tr>\n",
       "    <tr>\n",
       "      <th>내부자들</th>\n",
       "      <td>26</td>\n",
       "      <td>27</td>\n",
       "      <td>204</td>\n",
       "      <td>4</td>\n",
       "    </tr>\n",
       "    <tr>\n",
       "      <th>은밀하게 위대하게</th>\n",
       "      <td>26</td>\n",
       "      <td>28</td>\n",
       "      <td>202</td>\n",
       "      <td>1</td>\n",
       "    </tr>\n",
       "    <tr>\n",
       "      <th>나는 공무원이다</th>\n",
       "      <td>30</td>\n",
       "      <td>53</td>\n",
       "      <td>92</td>\n",
       "      <td>1</td>\n",
       "    </tr>\n",
       "    <tr>\n",
       "      <th>불량남녀</th>\n",
       "      <td>2</td>\n",
       "      <td>53</td>\n",
       "      <td>202</td>\n",
       "      <td>1</td>\n",
       "    </tr>\n",
       "  </tbody>\n",
       "</table>\n",
       "</div>"
      ],
      "text/plain": [
       "           distributor  genre  screening_rat  director\n",
       "title                                                 \n",
       "개들의 전쟁              52     28            204         1\n",
       "내부자들                26     27            204         4\n",
       "은밀하게 위대하게           26     28            202         1\n",
       "나는 공무원이다            30     53             92         1\n",
       "불량남녀                 2     53            202         1"
      ]
     },
     "execution_count": 32,
     "metadata": {},
     "output_type": "execute_result"
    }
   ],
   "source": [
    "from kaggler.preprocessing import FrequencyEncoder\n",
    "df_cat = df.copy()\n",
    "fe = FrequencyEncoder()\n",
    "df_cat[cat_cols] = fe.fit_transform(df[cat_cols])\n",
    "df_cat[cat_cols].head()"
   ]
  },
  {
   "cell_type": "code",
   "execution_count": 33,
   "metadata": {
    "ExecuteTime": {
     "end_time": "2020-10-15T01:58:53.709550Z",
     "start_time": "2020-10-15T01:58:53.560690Z"
    }
   },
   "outputs": [
    {
     "name": "stdout",
     "output_type": "stream",
     "text": [
      " RMSE:\t  1258846.99\n",
      "RMSLE:\t        1.96\n"
     ]
    }
   ],
   "source": [
    "trn, tst = train_test_split(df_cat, test_size=.2, random_state=seed)\n",
    "clf = LGBMRegressor(random_state=seed)\n",
    "clf.fit(trn[features], np.log1p(trn[target_col]))\n",
    "p = np.expm1(clf.predict(tst[features]))\n",
    "print(f' RMSE:\\t{rmse(tst[target_col], p):12.2f}')\n",
    "print(f'RMSLE:\\t{rmsle(tst[target_col], p):12.2f}')"
   ]
  },
  {
   "source": [
    "간단하지만 준수한 성능을 보이는 방법임을 알 수 있습니다."
   ],
   "cell_type": "markdown",
   "metadata": {}
  },
  {
   "cell_type": "markdown",
   "metadata": {},
   "source": [
    "### 11.5.8 Hash Encoding"
   ]
  },
  {
   "source": [
    "Hashing encoding은 각 범주에 hash 함수를 적용해서 나온 hash값으로 변환하는 방식입니다. Hash 함수를 사용하기 때문에 `fit()`이 필요 없어서 빠르고 메모리를 적게 사용합니다. 그래서 범주의 개수가 많거나 데이터가 클 때 사용하면 효율적인 방식입니다. `sklearn.feature_extraction`모듈의 `FeatureHasher()`함수를 통해 적용 가능합니다. "
   ],
   "cell_type": "markdown",
   "metadata": {}
  },
  {
   "cell_type": "code",
   "execution_count": 34,
   "metadata": {
    "ExecuteTime": {
     "end_time": "2020-10-15T01:58:53.779064Z",
     "start_time": "2020-10-15T01:58:53.711705Z"
    }
   },
   "outputs": [
    {
     "name": "stdout",
     "output_type": "stream",
     "text": [
      "(600, 519)\n"
     ]
    }
   ],
   "source": [
    "from sklearn.feature_extraction import FeatureHasher\n",
    "fh = FeatureHasher(n_features=128, input_type='string')\n",
    "X = hstack([df[num_cols]] + [fh.fit_transform(df[col]) for col in cat_cols])\n",
    "print(X.shape)"
   ]
  },
  {
   "source": [
    "`FeatureHasher()`함수의 `n_features`파라미터에 hash 값의 길이를 설정할 수 있는데 길이가 너무 짧으면 다른 범주 간의 hash 값 충돌이 발생할 수 있습니다. 그러므로 충분하게 큰 값을 설정해주어야 합니다. 실습 데이터는 범주의 개수가 적어서 128을 주었지만 일반적으로 2^10인 1024로 설정합니다. "
   ],
   "cell_type": "markdown",
   "metadata": {}
  },
  {
   "cell_type": "code",
   "execution_count": 35,
   "metadata": {
    "ExecuteTime": {
     "end_time": "2020-10-15T01:58:53.888318Z",
     "start_time": "2020-10-15T01:58:53.781258Z"
    }
   },
   "outputs": [
    {
     "name": "stdout",
     "output_type": "stream",
     "text": [
      " RMSE:\t  1261559.18\n",
      "RMSLE:\t        1.95\n"
     ]
    }
   ],
   "source": [
    "X_trn, X_tst, y_trn, y_tst = train_test_split(X, df[target_col], test_size=.2, random_state=seed)\n",
    "clf = LGBMRegressor(random_state=seed)\n",
    "clf.fit(X_trn, np.log1p(y_trn))\n",
    "p = np.expm1(clf.predict(X_tst))\n",
    "print(f' RMSE:\\t{rmse(tst[target_col], p):12.2f}')\n",
    "print(f'RMSLE:\\t{rmsle(tst[target_col], p):12.2f}')"
   ]
  },
  {
   "source": [
    "## 11.6 참고자료\n",
    "\n",
    "- [Scikit-Learn OrdinalEncoder 튜토리얼](https://scikit-learn.org/stable/modules/preprocessing.html#preprocessing-categorical-features)\n",
    "- [Scikit-Learn FeatureHasher 튜토리얼](https://scikit-learn.org/stable/modules/feature_extraction.html#feature-hashing)\n",
    "- [머신러닝 마스터 클래스](https://www.upaper.net/jeongyoonlee/1136706)\n",
    "    - 6장. 범주형 변수 가공\n",
    "\n"
   ],
   "cell_type": "markdown",
   "metadata": {}
  }
 ],
 "metadata": {
  "kernelspec": {
   "display_name": "Python 3",
   "language": "python",
   "name": "python3"
  },
  "language_info": {
   "codemirror_mode": {
    "name": "ipython",
    "version": 3
   },
   "file_extension": ".py",
   "mimetype": "text/x-python",
   "name": "python",
   "nbconvert_exporter": "python",
   "pygments_lexer": "ipython3",
   "version": "3.7.6"
  },
  "toc": {
   "base_numbering": 1,
   "nav_menu": {},
   "number_sections": true,
   "sideBar": true,
   "skip_h1_title": true,
   "title_cell": "Table of Contents",
   "title_sidebar": "Contents",
   "toc_cell": false,
   "toc_position": {},
   "toc_section_display": true,
   "toc_window_display": true
  }
 },
 "nbformat": 4,
 "nbformat_minor": 4
}